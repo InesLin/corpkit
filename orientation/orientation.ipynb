{
 "cells": [
  {
   "cell_type": "markdown",
   "metadata": {},
   "source": [
    "## *corpkit*: a Python-based toolkit for working with linguistic corpora\n",
    "\n",
    "[![Join the chat at https://gitter.im/interrogator/corpkit](https://badges.gitter.im/Join%20Chat.svg)](https://gitter.im/interrogator/corpkit?utm_source=badge&utm_medium=badge&utm_campaign=pr-badge&utm_content=badge) [![DOI](https://zenodo.org/badge/14568/interrogator/corpkit.svg)](https://zenodo.org/badge/latestdoi/14568/interrogator/corpkit) [![PyPI](https://img.shields.io/pypi/v/corpkit.svg)](https://pypi.python.org/pypi/corpkit)\n",
    "\n",
    "### Daniel McDonald ([@interro_gator](https://twitter.com/interro_gator))\n",
    "\n",
    "> Because I kept building new tools for my linguistic research, I decided to put them together into *corpkit*, a simple toolkit for working with parsed and structured linguistic corpora.\n",
    "> \n",
    "> **Over the last few months I've developed a GUI version of the tool. This resides as pure Python in `corpkit/corpkit-gui.py`. There is also a zipped up version of an OSX executable in the [`corpkit-app` submodule](https://www.github.com/interrogator/corpkit-app). Documentation for the GUI is [here](http://interrogator.github.io/corpkit/). From here on out, though, this readme concerns the command line interface only.**\n",
    "\n",
    "<!-- MarkdownTOC -->\n",
    "\n",
    "- [What's in here?](#whats-in-here)\n",
    "  - [`Corpus()`](#corpus)\n",
    "    - [`interrogate()` method](#interrogate-method)\n",
    "    - [`concordance()` method](#concordance-method)\n",
    "  - [`Interrogation()`](#interrogation)\n",
    "    - [`edit()` method](#edit-method)\n",
    "    - [`plot()` method](#plot-method)\n",
    "  - [Functions, lists, etc.](#functions-lists-etc)\n",
    "- [Installation](#installation)\n",
    "  - [By downloading the repository](#by-downloading-the-repository)\n",
    "  - [By cloning the repository](#by-cloning-the-repository)\n",
    "  - [Via `pip`](#via-pip)\n",
    "- [Unpacking the orientation data](#unpacking-the-orientation-data)\n",
    "- [Quickstart](#quickstart)\n",
    "- [More detailed examples](#more-detailed-examples)\n",
    "  - [`search`, `exclude` and `show`](#search-exclude-and-show)\n",
    "- [Building corpora](#building-corpora)\n",
    "  - [Speaker IDs](#speaker-ids)\n",
    "  - [Getting general stats](#getting-general-stats)\n",
    "- [Concordancing](#concordancing)\n",
    "- [Systemic functional stuff](#systemic-functional-stuff)\n",
    "- [Keywording](#keywording)\n",
    "  - [Plotting keywords](#plotting-keywords)\n",
    "  - [Traditional reference corpora](#traditional-reference-corpora)\n",
    "- [Parallel processing](#parallel-processing)\n",
    "  - [Multiple corpora](#multiple-corpora)\n",
    "  - [Multiple speakers](#multiple-speakers)\n",
    "  - [Multiple queries](#multiple-queries)\n",
    "- [More complex queries and plots](#more-complex-queries-and-plots)\n",
    "  - [Visualisation options](#visualisation-options)\n",
    "- [More information](#more-information)\n",
    "- [Cite](#cite)\n",
    "\n",
    "<!-- /MarkdownTOC -->\n",
    "\n",
    "<a name=\"whats-in-here\"></a>\n",
    "## What's in here?\n",
    "\n",
    "Essentially, the module contains classes, methods and functions for building and interrogating corpora, then manipulating or visualising the results. \n",
    "\n",
    "<a name=\"corpus\"></a>\n",
    "### `Corpus()`\n",
    "\n",
    "First, there's a `Corpus()` class, which models a corpus of CoreNLP XML, lists of tokens, or plaintext files, creating subclasses for subcorpora and corpus files.\n",
    "\n",
    "To use it, simple feed it a path to a directory containing `.txt` files, or subfolders containing `.txt` files."
   ]
  },
  {
   "cell_type": "code",
   "execution_count": null,
   "metadata": {},
   "outputs": [],
   "source": [
    ">>> from corpkit import Corpus\n",
    ">>> unparsed = Corpus('path/to/data')"
   ]
  },
  {
   "cell_type": "markdown",
   "metadata": {},
   "source": [
    "With the `Corpus()` class, the following attributes are available:\n",
    "\n",
    "| Attribute | Purpose |\n",
    "|-----------|---------|\n",
    "| `corpus.subcorpora` | list of subcorpus objects with indexing/slicing methods |\n",
    "| `corpus.files` | list of corpus file objects with indexing/slicing methods |\n",
    "| `corpus.structure` | `dict` containing subcorpora and their files |\n",
    "| `corpus.features` | Where feature counting will be stored, `None` initially |\n",
    "\n",
    "as well as the following methods:\n",
    "\n",
    "| Method | Purpose |\n",
    "|--------|---------|\n",
    "| `corpus.parse()` | Create a tokenised/parsed version of a plaintext corpus |\n",
    "| `corpus.interrogate()` | Interrogate the corpus for lexicogrammatical features |\n",
    "| `corpus.concordance()` | Concordance via lexis and/or grammar |\n",
    "| `corpus.get_stats()` | Count features (characters, clauses, words, tokens, process types, passives, etc.) and store as `corpus.features` attribute |\n",
    "\n",
    "Most attributes, and the `.interrogate()` and `.concordance()` methods, can also be called on `Subcorpus` and `File` objects. `File` object also have a `.read()` method.\n",
    "\n",
    "<a name=\"interrogate-method\"></a>\n",
    "#### `interrogate()` method\n",
    "\n",
    "* Use [Tregex](http://nlp.stanford.edu/~manning/courses/ling289/Tregex.html) or regular expressions to search parse trees, dependencies or plain text for complex lexicogrammatical phenomena\n",
    "* Search for, exclude and show word, lemma, POS tag, semantic role, governor, dependent, index (etc) of a token matching a regular expression or wordlist\n",
    "* N-gramming\n",
    "* Two-way UK-US spelling conversion, and the ability to add words manually\n",
    "* Output Pandas DataFrames that can be easily edited and visualised\n",
    "* Use parallel processing to search for a number of patterns, or search for the same pattern in multiple corpora\n",
    "* Restrict searches to particular speakers in a corpus\n",
    "* Quickly save to and load from disk with `save()` and `load()`\n",
    "\n",
    "<a name=\"concordance-method\"></a>\n",
    "#### `concordance()` method\n",
    "\n",
    "* Equivalent API to `interrogate()`, but return DataFrame of concordance lines\n",
    "* Return any combination and order of words, lemmas, indices, functions, or POS tags\n",
    "* Editable and saveable\n",
    "* Output to LaTeX, CSV or string with `format()`\n",
    "\n",
    "The code below demonstrates the complex kinds of queries that can be handled by the `interrogate()` and `concordance()` methods:"
   ]
  },
  {
   "cell_type": "code",
   "execution_count": null,
   "metadata": {},
   "outputs": [],
   "source": [
    "# select parsed corpus\n",
    ">>> corpus = Corpus('data/postcounts-parsed')\n",
    "\n",
    "# import process type lists and closed class wordlists\n",
    ">>> from dictionaries.process_types import processes\n",
    ">>> from dictionaries.wordlists import wordlists\n",
    "\n",
    "# match tokens with governor that is in relational process wordlist, \n",
    "# and whose function is `nsubj(pass)` or `csubj(pass)`:\n",
    ">>> criteria = {'g': processes.relational, 'f': r'^.subj'}\n",
    "\n",
    "# exclude tokens whose part-of-speech is verbal, \n",
    "# or whose word is in a list of pronouns\n",
    ">>> exc = {'p': r'^V', 'w': wordlists.pronouns}\n",
    "\n",
    "# interrogate, returning slash-delimited function/lemma\n",
    ">>> data = corpus.interrogate(criteria, exclude = exc, show = ['f', 'l'])\n",
    ">>> lines = corpus.concordance(criteria, exclude = exc, show = ['f', 'l'])\n",
    "\n",
    "# show results\n",
    ">>> print data, lines.format(n = 10, window = 40, columns = ['l', 'm', 'r'])"
   ]
  },
  {
   "cell_type": "markdown",
   "metadata": {},
   "source": [
    "Output sample:"
   ]
  },
  {
   "cell_type": "code",
   "execution_count": null,
   "metadata": {},
   "outputs": [],
   "source": [
    "    nsubj/thing  nsubj/person  nsubj/problem  nsubj/way  nsubj/son\n",
    "01          296           168            134         69         73   \n",
    "02          233           147             88         70         70   \n",
    "03          250           160             95         80         67   \n",
    "04          247           205             88         93         71   \n",
    "05          275           193             68         75         61   \n",
    "\n",
    "0  nk nsubj/it cop/be ccomp/sad advmod/when    nsubj/person  aux/do neg/not advcl/look ./at prep_at/w\n",
    "1  /my dobj/Fluoxetine advmod/now mark/that    nsubj/spring  ccomp/be advmod/here ./, ./but nsubj/I a\n",
    "2  y mark/because expl/there advcl/be det/a     nsubj/woman  ./across det/the prep_across/hall ./from\n",
    "3   num/114 ccomp/pound ./, mark/so det/any       nsubj/med  nsubj/I rcmod/take aux/can advcl/have de\n",
    "4                                                 nsubj/Kat  ./, root/be nsubj/you dep/taper ./off ./\n",
    "5  /to xcomp/explain prep_from/what det/the      nsubj/mark  ./on poss/my prep_on/arm ./, conj_and/ne\n",
    "6   det/the amod/first ./and conj_and/third  nsubj/hospital  nsubj/I rcmod/be advmod/at root/have num\n",
    "7  e dobj/tv mark/while det/the amod/second  nsubj/hospital  nsubj/I cop/be rcmod/IP prep/at pcomp/in\n",
    "8                                                 nsubj/Ben  ./, mark/if nsubj/you cop/be advcl/unhap\n",
    "9  h ./of prep_of/sleep advmod/when det/the   nsubj/reality  advcl/be ./, nsubj/everyone ccomp/need n\n"
   ]
  },
  {
   "cell_type": "markdown",
   "metadata": {},
   "source": [
    "<a name=\"interrogation\"></a>\n",
    "### `Interrogation()`\n",
    "\n",
    "The `corpus.interrogate()` method returns an `Interrogation()` object. These have attributes:\n",
    "\n",
    "| Attribute | Contains |\n",
    "| ---------------|----------|\n",
    "| `interrogation.results` |  Pandas DataFrame of counts in each subcorpus |\n",
    "| `interrogation.totals` | Pandas Series of totals for each subcorpus/result |\n",
    "| `interrogation.query` | a `dict` of values used to generate the interrogation |\n",
    "\n",
    "and methods:\n",
    "\n",
    "| Method | Purpose |\n",
    "|------------|---------|\n",
    "| `interrogation.edit()`        | Get relative frequencies, merge/remove results/subcorpora, calculate keywords, sort using linear regression, etc. |\n",
    "| `interrogation.plot()`       | visualise results via *matplotlib* | \n",
    "| `interrogation.save()` | Save data as pickle |\n",
    "| `interrogation.quickview()` | Show top results and their absolute/relative frequency |\n",
    "\n",
    "These methods have been monkey-patched to Pandas' DataFrame and Series objects, as well.\n",
    "\n",
    "<a name=\"edit-method\"></a>\n",
    "#### `edit()` method\n",
    "\n",
    "* Remove, keep or merge interrogation results or subcorpora using indices, words or regular expressions (see below)\n",
    "* Sort results by name or total frequency\n",
    "* Use linear regression to figure out the trajectories of results, and sort by the most increasing, decreasing or static values\n",
    "* Show the *p*-value for linear regression slopes, or exclude results above *p*\n",
    "* Work with absolute frequency, or determine ratios/percentage of another list: \n",
    "    * determine the total number of verbs, or total number of verbs that are *be*\n",
    "    * determine the percentage of verbs that are *be*\n",
    "    * determine the percentage of *be* verbs that are *was*\n",
    "    * determine the ratio of *was/were* ...\n",
    "    * etc.\n",
    "* Plot more advanced kinds of relative frequency: for example, find all proper nouns that are subjects of clauses, and plot each word as a percentage of all instances of that word in the corpus (see below)\n",
    "\n",
    "<a name=\"plot-method\"></a>\n",
    "#### `plot()` method\n",
    "\n",
    "* Plot using *Matplotlib*\n",
    "* Interactive plots (hover-over text, interactive legends) using *mpld3* (examples in the [*Risk Semantics* notebook](https://github.com/interrogator/risk/blob/master/risk.ipynb))\n",
    "* Plot anything you like: words, tags, counts for grammatical features ...\n",
    "* Create line charts, bar charts, pie charts, etc. with the `kind` argument\n",
    "* Use `subplots = True` to produce individual charts for each result\n",
    "* Customisable figure titles, axes labels, legends, image size, colormaps, etc.\n",
    "* Use `TeX` if you have it\n",
    "* Use log scales if you really want\n",
    "* Use a number of chart styles, such as `ggplot`, `fivethirtyeight` or `seaborn-talk` (if you've got `seaborn` installed)\n",
    "* Save images to file, as `.pdf` or `.png`\n",
    "\n",
    "<a name=\"functions-lists-etc\"></a>\n",
    "### Functions, lists, etc.\n",
    "\n",
    "There are quite a few helper functions for making regular expressions, making new projects, and so on, with more documentation forthcoming. Also included are some lists of words and dependency roles, which can be used to match functional linguistic categories. These are explained in more detail [here](#systemic-functional-stuff).\n",
    "\n",
    "Included here is `orientation/orientation.ipynb`, which is a Jupyter Notebook version of this readme. In `orientation/data` is a sample corpus of paragraph from *The New York Times* containing the word *risk*. Due to size restrictions, This data only includes parse trees (no dependencies), and isn't included in the pip package. With the notebook and the data, you can easily run all the code in this document yourself.\n",
    "\n",
    "<a name=\"installation\"></a>\n",
    "## Installation\n",
    "\n",
    "You can get *corpkit* running by downloading or cloning this repository, or via `pip`.\n",
    "\n",
    "<a name=\"by-downloading-the-repository\"></a>\n",
    "### By downloading the repository\n",
    "\n",
    "Hit 'Download ZIP' and unzip the file. Then `cd` into the newly created directory and install:"
   ]
  },
  {
   "cell_type": "code",
   "execution_count": null,
   "metadata": {
    "attributes": {
     "classes": [
      "shell"
     ],
     "id": ""
    }
   },
   "outputs": [],
   "source": [
    "cd corpkit-master\n",
    "# might need sudo:\n",
    "python setup.py install"
   ]
  },
  {
   "cell_type": "markdown",
   "metadata": {},
   "source": [
    "<a name=\"by-cloning-the-repository\"></a>\n",
    "### By cloning the repository\n",
    "\n",
    "Clone the repo, `cd` into it and run the setup:"
   ]
  },
  {
   "cell_type": "code",
   "execution_count": null,
   "metadata": {
    "attributes": {
     "classes": [
      "shell"
     ],
     "id": ""
    }
   },
   "outputs": [],
   "source": [
    "git clone https://github.com/interrogator/corpkit.git\n",
    "cd corpkit\n",
    "# might need sudo:\n",
    "python setup.py install"
   ]
  },
  {
   "cell_type": "markdown",
   "metadata": {},
   "source": [
    "<a name=\"via-pip\"></a>\n",
    "### Via `pip`"
   ]
  },
  {
   "cell_type": "code",
   "execution_count": null,
   "metadata": {
    "attributes": {
     "classes": [
      "shell"
     ],
     "id": ""
    }
   },
   "outputs": [],
   "source": [
    "# might need sudo:\n",
    "pip install corpkit\n",
    "# or, for a local install:\n",
    "# pip install --user corpkit"
   ]
  },
  {
   "cell_type": "markdown",
   "metadata": {},
   "source": [
    "*corpkit* should install all the necessary dependencies, including *pandas*, *NLTK*, *matplotlib*, etc, as well as some NLTK data files. \n",
    "\n",
    "If you get an NLTK error, you might need to manually download the tokeniser and lemmatiser data:"
   ]
  },
  {
   "cell_type": "code",
   "execution_count": null,
   "metadata": {},
   "outputs": [],
   "source": [
    ">>> import nltk\n",
    "# change 'punkt' to 'all' to get everything\n",
    ">>> nltk.download('punkt')\n",
    ">>> nltk.download('wordnet')"
   ]
  },
  {
   "cell_type": "markdown",
   "metadata": {},
   "source": [
    "<a name=\"unpacking-the-orientation-data\"></a>\n",
    "## Unpacking the orientation data\n",
    "\n",
    "If you installed by downloading or cloning this repository, you'll have the orientation project installed. To use it, `cd` into the orientation project and unzip the data files:"
   ]
  },
  {
   "cell_type": "code",
   "execution_count": null,
   "metadata": {
    "attributes": {
     "classes": [
      "shell"
     ],
     "id": ""
    }
   },
   "outputs": [],
   "source": [
    "cd orientation\n",
    "# unzip data to data folder\n",
    "gzip -dc data/nyt.tar.gz | tar -xf - -C data"
   ]
  },
  {
   "cell_type": "markdown",
   "metadata": {},
   "source": [
    "<a name=\"quickstart\"></a>\n",
    "## Quickstart\n",
    "\n",
    "The best way to use *corpkit* is by opening `orientation/orientation.ipynb` with Jupyter, and executing the relevant cells:"
   ]
  },
  {
   "cell_type": "code",
   "execution_count": null,
   "metadata": {
    "attributes": {
     "classes": [
      "shell"
     ],
     "id": ""
    }
   },
   "outputs": [],
   "source": [
    "ipython notebook orientation.ipynb"
   ]
  },
  {
   "cell_type": "markdown",
   "metadata": {},
   "source": [
    "Or, just use *(I)Python*:"
   ]
  },
  {
   "cell_type": "code",
   "execution_count": null,
   "metadata": {},
   "outputs": [],
   "source": [
    ">>> from corpkit import Corpus\n",
    "\n",
    "# Make corpus from path\n",
    ">>> unparsed = Corpus('data/nyt/years')\n",
    "\n",
    "# parse it, return the new parsed corpus object\n",
    ">>> corpus = unparsed.parse()\n",
    "\n",
    "# search corpus for modal auxiliaries:\n",
    ">>> corpus.interroplot('MD')"
   ]
  },
  {
   "cell_type": "markdown",
   "metadata": {},
   "source": [
    "Output: \n",
    "\n",
    "<img style=\"float:left\" src=\"https://raw.githubusercontent.com/interrogator/risk/master/images/md2.png\" />\n",
    "<br><br>\n",
    "\n",
    "<a name=\"more-detailed-examples\"></a>\n",
    "## More detailed examples\n",
    "\n",
    "`interroplot()` is just a demo method that does three things in order:\n",
    "\n",
    "1. uses `interrogate()` to search corpus for a (Regex- or Tregex-based) query\n",
    "2. uses `edit()` to calculate the relative frequencies of each result\n",
    "3. uses `plot()` to show the top seven results\n",
    " \n",
    "Here's an example of the three methods at work:"
   ]
  },
  {
   "cell_type": "code",
   "execution_count": null,
   "metadata": {},
   "outputs": [],
   "source": [
    "# make tregex query: head of NP in PP containing 'of' in NP headed by risk word:\n",
    ">>> q = r'/NN.?/ >># (NP > (PP <<# /(?i)of/ > (NP <<# (/NN.?/ < /(?i).?\\brisk.?/))))'\n",
    "\n",
    "# search trees, exclude 'risk of rain', output lemma\n",
    ">>> risk_of = corpus.interrogate({'t': q}, exclude = {'w': '^rain$'}, show = ['l'])\n",
    "# alternative syntax which may be easier when there's only a single search criterion:\n",
    "# >>> risk_of = corpus.interrogate('t', q, exclude = {'w': '^rain$'}, show = ['l'])\n",
    "\n",
    "# use edit() to turn absolute into relative frequencies\n",
    ">>> to_plot = risk_of.edit('%', risk_of.totals)\n",
    "\n",
    "# plot the results\n",
    ">>> to_plot.plot('Risk of (noun)', y_label = 'Percentage of all results',\n",
    "...    style = 'fivethirtyeight')"
   ]
  },
  {
   "cell_type": "markdown",
   "metadata": {},
   "source": [
    "Output: \n",
    "\n",
    "<img style=\"float:left\" src=\"https://raw.githubusercontent.com/interrogator/risk/master/images/risk-of-noun.png\" />\n",
    "<br><br>\n",
    "\n",
    "<a name=\"search-exclude-and-show\"></a>\n",
    "### `search`, `exclude` and `show`\n",
    "\n",
    "In the example above, parse trees are searched, a particular match is excluded, and lemmata are shown. These three arguments (`search`, `exclude` and `show`) are the core of the `interrogate()` and `concordance()` methods.\n",
    "\n",
    "the `search` and `exclude` arguments need a `dict`, with the **thing to be searched as keys** and the **search pattern as values**. Here is a list of available keys for plaintext, tokenised and parsed corpora:\n",
    "\n",
    "| Key | Gloss |\n",
    "|-----|-------|\n",
    "| `'w'`   | Word |\n",
    "| `'l'`   | Lemma   |\n",
    "| `'i'`   | Index of token in sentence |\n",
    "| `'n'`   | N-gram    |\n",
    "\n",
    "For parsed corpora, there are many other possible keys:\n",
    "\n",
    "| Key | Gloss |\n",
    "|-----|-------|\n",
    "| `'p'`    | Part of speech tag |\n",
    "| `'g'`    | Governor word  |\n",
    "| `'gl'`   | Governor lemma form   |\n",
    "| `'gp'`   | Governor POS   |\n",
    "| `'gf'`   | Governor function   |\n",
    "| `'d'`    | Dependent word   |\n",
    "| `'dl'`   | Dependent lemma form   |\n",
    "| `'dp'`   | Dependent POS   |\n",
    "| `'df'`   | Dependent function  |\n",
    "| `'f'`    | Dependency function |\n",
    "| `'r'`    | Distance from 'root' |\n",
    "| `'t'`    | Tree  |\n",
    "| `'v'`    | Predefined general stats |\n",
    "\n",
    "Allowable combinations are subject to common sense. If you're searching trees, you can't also search governors or dependents. If you're searching an unparsed corpus, you can't search for information provided by the parser. Here are some example `search`/`exclude` values:\n",
    "\n",
    "| search/exclude | Gloss |\n",
    "|--------|-------|\n",
    "| `{'w': r'^p'}`       | Tokens starting with 'p'      |\n",
    "| `{'l': r'any'}`       | Any lemma (often equivalent to `r'.*'`)      |\n",
    "| `{'g': r'ing$'}`       | Tokens with governor word ending in 'ing'      |\n",
    "| `{'f': funclist}`       | Tokens whose dependency function matches a `str` in `funclist`       |\n",
    "| `{'d': r'^br', 'gl': r'$have$'}`       | Tokens with dependent starting with 'br' and 'have' as governor lemma  |\n",
    "| `{'i': '0', 'f': '^nsubj$'}`       | Sentence initial tokens with role of `nsubj`      |\n",
    "| `{'t': r'NP !<<# /NN.?'}`       | NPs with non-nominal heads    |\n",
    "\n",
    "If you'd prefer, you can make a `dict` to handle dependent and governor information, instead of using things like `'df'`. The following searches produce the same output:"
   ]
  },
  {
   "cell_type": "code",
   "execution_count": null,
   "metadata": {},
   "outputs": [],
   "source": [
    "crit = {'w': r'^friend$', \n",
    "        'd': {'f': 'amod', \n",
    "              'w': 'great'}}\n",
    "crit = {'w': r'^friend$', 'df': 'amod', 'd': 'great'}"
   ]
  },
  {
   "cell_type": "markdown",
   "metadata": {},
   "source": [
    "By default, all `search` criteria must match, but any `exclude` criterion is enough to exclude a match. This beahviour can be changed with the `searchmode` and `excludemode` arguments:"
   ]
  },
  {
   "cell_type": "code",
   "execution_count": null,
   "metadata": {},
   "outputs": [],
   "source": [
    "# get words that end in 'ing' OR are nominal:\n",
    ">>> out = interrogator({'w': 'ing$', 'p': r'^N'}, searchmode = 'any')\n",
    "# get any word, but exclude words that end in 'ing' AND are nominal:\n",
    ">>> out = interrogator({'w': 'any'}, exclude = {'w': 'ing$', 'p': 'N'}, excludemode = 'all')"
   ]
  },
  {
   "cell_type": "markdown",
   "metadata": {},
   "source": [
    "The `show` argument wants a list of keys you'd like to return for each result. The order will be respected. If you only want one thing, a `str` is OK. One additional possibility is `'c'`, which returns the number of occurrences only.\n",
    "\n",
    "| `show` | return |\n",
    "|--------|--------|\n",
    "| `'w'` | `'champions'` |\n",
    "| `['w']` | `'champions'` |\n",
    "| `'l'` | `'champion'`  |\n",
    "| `'p'` | `'NNS'` |\n",
    "| `'pl'` | `'Noun'` |\n",
    "| `'t'` | `'(np (jj prevailing) (nns champions))'` (depending on Tregex query) |\n",
    "| `['p', 'w']`    | `'NNS/champions'`      |\n",
    "| `['w', 'p']`    | `'champions/NNS'`     |\n",
    "| `['i', 'l', 'r']`    | `'2/champion/1'`      |\n",
    "| `['l', 'd', 'f']`    | `'champion/prevailing/nsubj'`      |\n",
    "| `['g', 'gl', 'i']`    | `'are/be/2'`      |\n",
    "| `['gl', 'gf', 'gp']`    | `'be/root/vb'`      |\n",
    "| `['l', 'l']`    | `'champion/champion'`      |\n",
    "| `['c']` | `24` |\n",
    "\n",
    "Again, common sense dictates what is possible. When searching trees, only words, lemmata, POS and counts can be returned. If showing trees, you can't show anything else. If you use `'c'`, you can't use anything else.\n",
    "\n",
    "<a name=\"building-corpora\"></a>\n",
    "## Building corpora\n",
    "\n",
    "*corpkit*'s `Corpus()` class contains `parse()`, a modest method for created parsed and/or tokenised corpora. The main thing you need is **a folder, containing either text files, or subfolders that contain text files**. If you want to parse the corpus, you'll also need to have downloaded and unzipped [Stanford CoreNLP](http://nlp.stanford.edu/software/corenlp.shtml). If you're tokenising, you'll need to make sure you have NLTK's tokeniser data. You can then run:"
   ]
  },
  {
   "cell_type": "code",
   "execution_count": null,
   "metadata": {},
   "outputs": [],
   "source": [
    ">>> unparsed = Corpus('path/to/unparsed/files')\n",
    "\n",
    "# to parse, you can set a path to corenlp\n",
    ">>> corpus = unparsed.parse(corenlppath = 'Downloads/corenlp')\n",
    "\n",
    "# to tokenise, turn parsing off, and point to nltk:\n",
    "# >>> corpus = unparsed.parse(parse = False, tokenise = True, nltk_data_path = 'Downloads/nltk_data')"
   ]
  },
  {
   "cell_type": "markdown",
   "metadata": {},
   "source": [
    "which creates the parsed/tokenised corpora, and returns `Corpus()` objects representing them. You can also optionally pass in a string of annotators:"
   ]
  },
  {
   "cell_type": "code",
   "execution_count": null,
   "metadata": {},
   "outputs": [],
   "source": [
    "ans = 'tokenize,ssplit,pos'\n",
    "corpus = unparsed.parse(operations = ans)"
   ]
  },
  {
   "cell_type": "markdown",
   "metadata": {},
   "source": [
    "<a name=\"speaker-ids\"></a>\n",
    "#### Speaker IDs\n",
    "\n",
    "Something novel about *corpkit* is that it can work with corpora containing speaker IDs (scripts, transcripts, logs, etc.), like this:"
   ]
  },
  {
   "cell_type": "code",
   "execution_count": null,
   "metadata": {},
   "outputs": [],
   "source": [
    "JOHN: Why did they change the signs above all the bins?\n",
    "SPEAKER23: I know why. But I'm not telling."
   ]
  },
  {
   "cell_type": "markdown",
   "metadata": {},
   "source": [
    "If you use:"
   ]
  },
  {
   "cell_type": "code",
   "execution_count": null,
   "metadata": {},
   "outputs": [],
   "source": [
    ">>> corpus = unparsed.parse(speaker_segmentation = True)"
   ]
  },
  {
   "cell_type": "markdown",
   "metadata": {},
   "source": [
    "This will:\n",
    "\n",
    "1. Detect any IDs in any file\n",
    "2. Create a duplicate version of the corpus with IDs removed\n",
    "3. Parse this 'cleaned' corpus\n",
    "4. Add an XML tag to each sentence with the name of the speaker\n",
    "5. Return the parsed corpus as a `Corpus()` object\n",
    "\n",
    "When interrogating or concordancing, you can then pass in a keyword argument to restrict searches to one or more speakers:"
   ]
  },
  {
   "cell_type": "code",
   "execution_count": null,
   "metadata": {},
   "outputs": [],
   "source": [
    ">>> s = ['BRISCOE', 'LOGAN']\n",
    ">>> npheads = interrogate('trees', r'/NN.?/ >># NP', just_speakers = s)"
   ]
  },
  {
   "cell_type": "markdown",
   "metadata": {},
   "source": [
    "This makes it possible to not only investigate individual speakers, but to form an understanding of the overall tenor/tone of the text as well: *Who does most of the talking? Who is asking the questions? Who issues commands?*\n",
    "\n",
    "<a name=\"getting-general-stats\"></a>\n",
    "### Getting general stats\n",
    "\n",
    "Once you have a parsed `Corpus()` object, you can use `corpus.get_stats()` to fill `corpus.features` with data."
   ]
  },
  {
   "cell_type": "code",
   "execution_count": null,
   "metadata": {},
   "outputs": [],
   "source": [
    ">>> corpus = Corpus('data/sessions-parsed')\n",
    ">>> corpus.get_stats()\n",
    ">>> corpus.features"
   ]
  },
  {
   "cell_type": "markdown",
   "metadata": {},
   "source": [
    "Output:"
   ]
  },
  {
   "cell_type": "code",
   "execution_count": null,
   "metadata": {},
   "outputs": [],
   "source": [
    "    Characters  Tokens  Words  Closed class words  Open class words  Clauses  Sentences  Unmodalised declarative  Mental processes   Relational processes  Interrogative  Passives  Verbal processes   Modalised declarative  Open interrogative  Imperative  Closed interrogative  \n",
    "01       26873    8513   7308                4809              3704     2212        577                      280               156                     98             76        35                39                      26                   8           2                      3    \n",
    "02       25844    7933   6920                4313              3620     2270        266                      130               195                    109             29        19                35                      11                   5           1                      3    \n",
    "03       18376    5683   4877                3067              2616     1640        330                      174               132                     68             30        40                29                       8                  12           6                      1    \n",
    "04       20066    6354   5366                3587              2767     1775        319                      174               176                     83             33        30                20                       9                   9           4                      1    \n",
    "05       23461    7627   6217                4400              3227     1978        479                      245               154                     93             45        51                28                      20                   5           3                      1    \n",
    "06       19164    6777   5200                4151              2626     1684        298                      111               165                     83             43        56                14                      10                   6           6                      2    \n",
    "07       22349    7039   5951                4012              3027     1947        343                      183               195                     82             29        30                38                      12                   5           5                      0    \n",
    "08       26494    8760   7124                4960              3800     2379        545                      263               170                     87             66        36                32                      10                   6           5                      4    \n",
    "09       23073    7747   6193                4524              3223     2056        310                      149               164                     88             21        26                22                      10                   5           3                      0    \n",
    "10       20648    6789   5608                3817              2972     1795        437                      265               139                    101             34        34                39                      18                   5           3                      2    \n",
    "11       25366    8533   6899                4925              3608     2207        457                      230               203                    116             39        48                47                      15                  10           4                      0    \n",
    "12       16976    5742   4624                3274              2468     1567        258                      135               183                     72             23        43                22                       4                   3           1                      6    \n",
    "13       25807    8546   6966                4768              3778     2345        477                      257               200                    124             45        50                36                      15                  12           3                      2    "
   ]
  },
  {
   "cell_type": "markdown",
   "metadata": {},
   "source": [
    "This data can be very helpful when using `edit()` to generate relative frequencies, for example.\n",
    "\n",
    "<a name=\"concordancing\"></a>\n",
    "## Concordancing\n",
    "\n",
    "Unlike most concordancers, which are based on plaintext corpora, *corpkit* can concordance gramatically, using the same kind of `search`, `exclude` and `show` values as `interrogate()`."
   ]
  },
  {
   "cell_type": "code",
   "execution_count": null,
   "metadata": {},
   "outputs": [],
   "source": [
    ">>> subcorpus = corpus.subcorpora.c2005\n",
    "# 'c' is added above to make a valid variable name from an int\n",
    "# can also be accessed as corpus.subcorpora['2005']\n",
    "# or corpus.subcorpora[index]\n",
    ">>> query = r'/JJ.?/ > (NP <<# (/NN.?/ < /\\brisk/))'\n",
    "# 't' option for tree searching\n",
    ">>> lines = subcorpus.concordance('t', query, window = 50, n = 10, random = True)"
   ]
  },
  {
   "cell_type": "markdown",
   "metadata": {},
   "source": [
    "Output (a `Pandas DataFrame`):"
   ]
  },
  {
   "cell_type": "code",
   "execution_count": null,
   "metadata": {},
   "outputs": [],
   "source": [
    "0    hedge funds or high-risk stocks obviously poses a         greater   risk to the pension program than a portfolio of   \n",
    "1           contaminated water pose serious health and   environmental   risks                                             \n",
    "2   a cash break-even pace '' was intended to minimize       financial   risk to the parent company                        \n",
    "3                                                Other           major   risks identified within days of the attack        \n",
    "4                           One seeks out stocks ; the           other   monitors risks                                    \n",
    "5        men and women in Colorado Springs who were at            high   risk for H.I.V. infection , because of            \n",
    "6   by the marketing consultant Seth Godin , to taking      calculated   risks , in the opinion of two longtime business   \n",
    "7        to happen '' in premises '' where there was a            high   risk of fire                                      \n",
    "8       As this was match points , some of them took a          slight   risk at the second trick by finessing the heart   \n",
    "9     said that the agency 's continuing review of how         Guidant   treated patient risks posed by devices like the "
   ]
  },
  {
   "cell_type": "markdown",
   "metadata": {},
   "source": [
    "You can also concordance via dependencies:"
   ]
  },
  {
   "cell_type": "code",
   "execution_count": null,
   "metadata": {},
   "outputs": [],
   "source": [
    "# match words starting with 'st' filling function of nsubj\n",
    ">>> criteria = {'w': r'^st', 'f': r'nsubj$'}\n",
    "# show function, pos and lemma (in that order)\n",
    ">>> lines = subcorpus.concordance(criteria, show = ['f', 'p', 'l'])\n",
    ">>> lines.format(window = 30, n = 10, columns = ['l', 'm', 'r'])"
   ]
  },
  {
   "cell_type": "markdown",
   "metadata": {},
   "source": [
    "Output:"
   ]
  },
  {
   "cell_type": "code",
   "execution_count": null,
   "metadata": {},
   "outputs": [],
   "source": [
    "0  ime ./:/; cc/CC/and det/DT/the        nsubj/NN/stock  conj:and/VBZ/be advmod/RB/hist\n",
    "1  vmod/RB/even compound/NN/sleep       nsubj/NNS/study  ./,/, appos/NNS/evaluation cas\n",
    "2  od:poss/NNS/veteran case/POS/'        nsubj/NN/study  ccomp/VBZ/suggest mark/IN/that\n",
    "3                        det/DT/a        nsubj/NN/study  case/IN/in nmod:poss/NN/today \n",
    "4            cc/CC/but det/DT/the        nsubj/NN/study  root/VBD/find mark/IN/that cas\n",
    "5  pound/NN/a amod/JJ/preliminary        nsubj/NN/study  case/IN/of nmod:of/NNS/woman c\n",
    "6  case/IN/for nmod:for/WDT/which  nsubj/NNS/statistics  acl:relcl/VBD/be xcomp/JJ/avai\n",
    "7                amod/JJR/earlier       nsubj/NNS/study  aux/VBD/have root/VBN/show mar\n",
    "8  ay det/DT/the amod/JJR/earlier       nsubj/NNS/study  aux/VBD/do neg/RB/not ccomp/VB\n",
    "9  /there root/VBP/be det/DT/some    nsubj/NNS/strategy  ./:/- dep/JJS/most case/IN/of "
   ]
  },
  {
   "cell_type": "markdown",
   "metadata": {},
   "source": [
    "You can search tokenised corpora or plaintext corpora for regular expressions or lists of words to match. The two queries below will return identical results:"
   ]
  },
  {
   "cell_type": "code",
   "execution_count": null,
   "metadata": {},
   "outputs": [],
   "source": [
    "r_query = r'^fr?iends?$'\n",
    "l_query = ['friend', 'friends', 'fiend', 'fiends']\n",
    ">>> lines = subcorpus.concordance({'w': r_query})\n",
    ">>> lines = subcorpus.concordance({'w': l_query})"
   ]
  },
  {
   "cell_type": "markdown",
   "metadata": {},
   "source": [
    "If you really wanted, you can then go on to use `concordance()` output as a dictionary, or extract keywords and ngrams from it, or keep or remove certain results with `edit()`. If you want to [give the GUI a try](http://interrogator.github.io/corpkit/), you can colour-code and create thematic categories for concordance lines as well.\n",
    "\n",
    "<a name=\"systemic-functional-stuff\"></a>\n",
    "## Systemic functional stuff\n",
    "\n",
    "Because I mostly use systemic functional grammar, there is also a simple tool for distinguishing between process types (relational, mental, verbal) when interrogating a corpus. If you add words to the lists in `dictionaries/process_types.py`, corpkit will get their inflections automatically."
   ]
  },
  {
   "cell_type": "code",
   "execution_count": null,
   "metadata": {},
   "outputs": [],
   "source": [
    ">>> from dictionaries.process_types import processes\n",
    "\n",
    "# match nsubj with verbal process as governor\n",
    ">>> crit = {'f': '^nsubj$', 'g': processes.verbal}\n",
    "# return lemma of the nsubj\n",
    ">>> sayers = corpus.interrogate(crit, show = ['l'])\n",
    "\n",
    "# have a look at the top results\n",
    ">>> sayers.quickview(n = 20)"
   ]
  },
  {
   "cell_type": "markdown",
   "metadata": {},
   "source": [
    "Output:"
   ]
  },
  {
   "cell_type": "code",
   "execution_count": null,
   "metadata": {},
   "outputs": [],
   "source": [
    "  0: he (n=24530)\n",
    "  1: she (n=5558)\n",
    "  2: they (n=5510)\n",
    "  3: official (n=4348)\n",
    "  4: it (n=3752)\n",
    "  5: who (n=2940)\n",
    "  6: that (n=2665)\n",
    "  7: i (n=2062)\n",
    "  8: expert (n=2057)\n",
    "  9: analyst (n=1369)\n",
    " 10: we (n=1214)\n",
    " 11: report (n=1103)\n",
    " 12: company (n=1070)\n",
    " 13: which (n=1043)\n",
    " 14: you (n=987)\n",
    " 15: researcher (n=987)\n",
    " 16: study (n=901)\n",
    " 17: critic (n=826)\n",
    " 18: person (n=802)\n",
    " 19: agency (n=798)\n",
    " 20: doctor (n=770)\n"
   ]
  },
  {
   "cell_type": "markdown",
   "metadata": {},
   "source": [
    "First, let's try removing the pronouns using `edit()`. The quickest way is to use the editable wordlists stored in `dictionaries/wordlists`:"
   ]
  },
  {
   "cell_type": "code",
   "execution_count": null,
   "metadata": {},
   "outputs": [],
   "source": [
    ">>> from dictionaries.wordlists import wordlists\n",
    ">>> prps = wordlists.pronouns\n",
    "\n",
    "# alternative approaches:\n",
    "# >>> prps = [0, 1, 2, 4, 5, 6, 7, 10, 13, 14, 24]\n",
    "# >>> prps = ['he', 'she', 'you']\n",
    "# >>> prps = as_regex(wl.pronouns, boundaries = 'line')\n",
    "# or, by re-interrogating:\n",
    "# >>> sayers = corpus.interrogate(crit, show = ['l'], exclude = {'w': wordlists.pronouns})\n",
    "\n",
    "# give edit() indices, words, wordlists or regexes to keep remove or merge\n",
    ">>> sayers_no_prp = sayers.edit(skip_entries = prps, skip_subcorpora = [1963])\n",
    ">>> sayers_no_prp.quickview(n = 10)"
   ]
  },
  {
   "cell_type": "markdown",
   "metadata": {},
   "source": [
    "Output:"
   ]
  },
  {
   "cell_type": "code",
   "execution_count": null,
   "metadata": {},
   "outputs": [],
   "source": [
    "  0: official (n=4342)\n",
    "  1: expert (n=2055)\n",
    "  2: analyst (n=1369)\n",
    "  3: report (n=1098)\n",
    "  4: company (n=1066)\n",
    "  5: researcher (n=987)\n",
    "  6: study (n=900)\n",
    "  7: critic (n=825)\n",
    "  8: person (n=801)\n",
    "  9: agency (n=796)"
   ]
  },
  {
   "cell_type": "markdown",
   "metadata": {},
   "source": [
    "Great. Now, let's sort the entries by trajectory, and then plot:"
   ]
  },
  {
   "cell_type": "code",
   "execution_count": null,
   "metadata": {},
   "outputs": [],
   "source": [
    "# sort with edit()\n",
    "# use scipy.linregress to sort by 'increase', 'decrease', 'static', 'turbulent' or 'p'\n",
    "# other sort_by options: 'name', 'total', 'infreq'\n",
    ">>> sayers_no_prp = sayers_no_prp.edit('%', sayers.totals, sort_by = 'increase')\n",
    "\n",
    "# make an area chart with custom y label\n",
    ">>> sayers_no_prp.plot('Sayers, increasing', kind = 'area', \n",
    "...    y_label = 'Percentage of all sayers')"
   ]
  },
  {
   "cell_type": "markdown",
   "metadata": {},
   "source": [
    "Output:\n",
    "\n",
    "<img style=\"float:left\" src=\"https://raw.githubusercontent.com/interrogator/risk/master/images/sayers-increasing.png\" />\n",
    "<br><br>\n",
    "\n",
    "We can also merge subcorpora. Let's look for changes in gendered pronouns:"
   ]
  },
  {
   "cell_type": "code",
   "execution_count": null,
   "metadata": {},
   "outputs": [],
   "source": [
    ">>> merges = {'1960s': r'^196', \n",
    "...           '1980s': r'^198', \n",
    "...           '1990s': r'^199', \n",
    "...           '2000s': r'^200',\n",
    "...           '2010s': r'^201'}\n",
    "\n",
    ">>> sayers = sayers.edit(merge_subcorpora = merges)\n",
    "\n",
    "# now, get relative frequencies for he and she\n",
    "# 'self' calculates percentage after merging/removing etc has been performed,\n",
    "# so that he and she will sum to 100%.\n",
    "# pass in `sayers.totals` to calculate he/she as percentage of all sayers\n",
    ">>> genders = sayers.edit('%', 'self', just_entries = ['he', 'she'])\n",
    "\n",
    "# and plot it as a series of pie charts, showing totals on the slices:\n",
    ">>> genders.plot('Pronominal sayers in the NYT', kind = 'pie',\n",
    "...    subplots = True, figsize = (15, 2.75), show_totals = 'plot')"
   ]
  },
  {
   "cell_type": "markdown",
   "metadata": {},
   "source": [
    "Output:\n",
    "\n",
    "<img style=\"float:left\" src=\"https://raw.githubusercontent.com/interrogator/risk/master/images/ann_he_she.png\" />\n",
    "<br><br>\n",
    "\n",
    "Woohoo, a decreasing gender divide! \n",
    "\n",
    "<a name=\"keywording\"></a>\n",
    "## Keywording\n",
    "\n",
    "As I see it, there are two main problems with keywording, as typically performed in corpus linguistics. First is the reliance on 'balanced'/'general' reference corpora, which are obviously a fiction. Second is the idea of stopwords. Essentially, when most people calculate keywords, they use stopword lists to automatically filter out words that they think will not be of interest to them. These words are generally closed class words, like determiners, prepositions, or pronouns. This is not a good way to go about things: the relative frequencies of *I*, *you* and *one* can tell us a lot about the kinds of language in a corpus. More seriously, stopwords mean adding subjective judgements about what is interesting language into a process that is useful precisely because it is not subjective or biased.\n",
    "\n",
    "So, what to do? Well, first, don't use 'general reference corpora' unless you really really have to. With *corpkit*, you can use your entire corpus as the reference corpus, and look for keywords in subcorpora. Second, rather than using lists of stopwords, simply do not send all words in the corpus to the keyworder for calculation. Instead, try looking for key *predicators* (rightmost verbs in the VP), or key *participants* (heads of arguments of these VPs):"
   ]
  },
  {
   "cell_type": "code",
   "execution_count": null,
   "metadata": {},
   "outputs": [],
   "source": [
    "# just heads of participants' lemma form (no pronouns, though!)\n",
    ">>> part = r'/(NN|JJ).?/ >># (/(NP|ADJP)/ $ VP | > VP)'\n",
    ">>> p = corpus.interrogate('trees', part, show = 'l')"
   ]
  },
  {
   "cell_type": "markdown",
   "metadata": {},
   "source": [
    "When using `edit()` to calculate keywords, there are a few default parameters that can be easily changed:\n",
    "\n",
    "| Keyword argument | Function | Default setting | Type\n",
    "|---|---|---|---|\n",
    "| `threshold`  | Remove words occurring fewer than `n` times in reference corpus  | `False` | `'high/medium/low'`/ `True/False` / `int`\n",
    "| `calc_all`  | Calculate keyness for words in both reference and target corpus, rather than just target corpus  | `True` | `True/False`\n",
    "| `selfdrop`  | Attempt to remove target data from reference data when calculating keyness  | `True`  | `True/False`\n",
    "\n",
    "Let's have a look at how these options change the output:"
   ]
  },
  {
   "cell_type": "code",
   "execution_count": null,
   "metadata": {},
   "outputs": [],
   "source": [
    "# 'self' as reference corpus uses p.results\n",
    ">>> options = {'selfdrop': False, \n",
    "...            'calc_all': False, \n",
    "...            'threshold': False}\n",
    "\n",
    ">>> for k, v in options.items():\n",
    "...    key = p.edit('keywords', 'self', k = v)\n",
    "...    print key.results.ix['2011'].order(ascending = False)\n"
   ]
  },
  {
   "cell_type": "markdown",
   "metadata": {},
   "source": [
    "Output:\n",
    "\n",
    "| #1: default       | |   #2: no `selfdrop` | |  #3: no `calc_all`    |  |  #4: no `threshold` | |\n",
    "|---|---:|---|---:|---|---:|---|---:|\n",
    "| risk        | 1941.47  |  risk        |  1909.79  |  risk        | 1941.47   |  bank       |   668.19 |\n",
    "| bank        | 1365.70  |  bank        |  1247.51  |  bank        | 1365.70   |  crisis     |   242.05 |\n",
    "| crisis      |  431.36  |  crisis      |   388.01  |  crisis      |  431.36   |  obama      |   172.41 |\n",
    "| investor    |  410.06  |  investor    |   387.08  |  investor    |  410.06   |  demiraj    |   161.90 |\n",
    "| rule        |  316.77  |  rule        |   293.33  |  rule        |  316.77   |  regulator  |   144.91 |\n",
    "|             |   ...    |              |    ...    |              |   ...     |             |    ...   |\n",
    "| clinton     |  -37.80  |  tactic      |   -35.09  |  hussein     |  -25.42   |  clinton    |   -87.33 |\n",
    "| vioxx       |  -38.00  |  vioxx       |   -35.29  |  clinton     |  -37.80   |  today      |   -89.49 |\n",
    "| greenspan   |  -54.35  |  greenspan   |   -51.38  |  vioxx       |  -38.00   |  risky      |  -125.76 |\n",
    "| bush        | -153.06  |  bush        |  -143.02  |  bush        | -153.06   |  bush       |  -253.95 |\n",
    "| yesterday   | -162.30  |  yesterday   |  -151.71  |  yesterday   | -162.30   |  yesterday  |  -268.29 |\n",
    "\n",
    "As you can see, slight variations on keywording give different impressions of the same corpus!\n",
    "\n",
    "A key strength of *corpkit*'s approach to keywording is that you can generate new keyword lists without re-interrogating the corpus. We can use some Pandas syntax to do this more quickly."
   ]
  },
  {
   "cell_type": "code",
   "execution_count": null,
   "metadata": {},
   "outputs": [],
   "source": [
    ">>> yrs = ['2011', '2012', '2013', '2014']\n",
    ">>> keys = p.results.ix[yrs].sum().edit('keywords', p.results.drop(yrs),\n",
    "...    threshold = False)\n",
    ">>> print keys.results"
   ]
  },
  {
   "cell_type": "markdown",
   "metadata": {},
   "source": [
    "Output:"
   ]
  },
  {
   "cell_type": "code",
   "execution_count": null,
   "metadata": {},
   "outputs": [],
   "source": [
    "bank          1795.24\n",
    "obama          722.36\n",
    "romney         560.67\n",
    "jpmorgan       527.57\n",
    "rule           413.94\n",
    "dimon          389.86\n",
    "draghi         349.80\n",
    "regulator      317.82\n",
    "italy          282.00\n",
    "crisis         243.43\n",
    "putin          209.51\n",
    "greece         208.80\n",
    "snowden        208.35\n",
    "mf             192.78\n",
    "adoboli        161.30"
   ]
  },
  {
   "cell_type": "markdown",
   "metadata": {},
   "source": [
    "... or track the keyness of a set of words over time:"
   ]
  },
  {
   "cell_type": "code",
   "execution_count": null,
   "metadata": {},
   "outputs": [],
   "source": [
    ">>> terror = ['terror', 'terrorism', 'terrorist']\n",
    ">>> terr = p.edit('k', 'self', merge_entries = terror, newname = 'terror')\n",
    ">>> print terr.results.terror"
   ]
  },
  {
   "cell_type": "markdown",
   "metadata": {},
   "source": [
    "Output:"
   ]
  },
  {
   "cell_type": "code",
   "execution_count": null,
   "metadata": {},
   "outputs": [],
   "source": [
    "1963    -2.51\n",
    "1987    -3.67\n",
    "1988   -16.09\n",
    "1989    -6.24\n",
    "1990   -16.24\n",
    "...       ...\n",
    "Name: terror, dtype: float64"
   ]
  },
  {
   "cell_type": "markdown",
   "metadata": {},
   "source": [
    "<a name=\"plotting-keywords\"></a>\n",
    "### Plotting keywords\n",
    "\n",
    "Naturally, we can use `plot()` for our keywords too:"
   ]
  },
  {
   "cell_type": "code",
   "execution_count": null,
   "metadata": {},
   "outputs": [],
   "source": [
    ">>> pols.results.terror.plot('Terror* as Participant in the \\emph{NYT}', \n",
    "...    kind = 'area', stacked = False, y_label = 'L/L Keyness')\n",
    ">>> politicians = ['bush', 'obama', 'gore', 'clinton', 'mccain', \n",
    "...                'romney', 'dole', 'reagan', 'gorbachev']\n",
    ">>> k.results[politicans].plot('Keyness of politicians in the \\emph{NYT}', \n",
    "...    num_to_plot = 'all', y_label = 'L/L Keyness', kind = 'area', legend_pos = 'center left')"
   ]
  },
  {
   "cell_type": "markdown",
   "metadata": {},
   "source": [
    "Output:\n",
    "<img style=\"float:left\" src=\"https://raw.githubusercontent.com/interrogator/risk/master/images/terror-as-participant-in-the-emphnyt.png\" />\n",
    "<img style=\"float:left\" src=\"https://raw.githubusercontent.com/interrogator/risk/master/images/keyness-of-politicians-in-the-emphnyt.png\" />\n",
    "<br><br>\n",
    "\n",
    "<a name=\"traditional-reference-corpora\"></a>\n",
    "### Traditional reference corpora\n",
    "\n",
    "If you still want to use a standard reference corpus, you can do that (and a dictionary version of the BNC is included). For the reference corpus, `edit()` recognises `dicts`, `DataFrames`, `Series`, files containing `dicts`, or paths to plain text files or trees."
   ]
  },
  {
   "cell_type": "code",
   "execution_count": null,
   "metadata": {},
   "outputs": [],
   "source": [
    "# arbitrary list of common/boring words\n",
    ">>> from dictionaries.stopwords import stopwords\n",
    ">>> print p.results.ix['2013'].edit('k', 'bnc.p', skip_entries = stopwords).results\n",
    ">>> print p.results.ix['2013'].edit('k', 'bnc.p', calc_all = False).results"
   ]
  },
  {
   "cell_type": "markdown",
   "metadata": {},
   "source": [
    "Output (not so useful):"
   ]
  },
  {
   "cell_type": "code",
   "execution_count": null,
   "metadata": {},
   "outputs": [],
   "source": [
    "#1                                #2\n",
    "bank           5568.25            bank      5568.25\n",
    "person         5423.24            person    5423.24\n",
    "company        3839.14            company   3839.14\n",
    "way            3537.16            way       3537.16\n",
    "state          2873.94            state     2873.94\n",
    "                ...                           ...  \n",
    "three          -691.25            ten       -199.36\n",
    "people         -829.97            bit       -205.97\n",
    "going          -877.83            sort      -254.71\n",
    "erm           -2429.29            thought   -255.72\n",
    "yeah          -3179.90            will      -679.06"
   ]
  },
  {
   "cell_type": "markdown",
   "metadata": {},
   "source": [
    "<a name=\"parallel-processing\"></a>\n",
    "## Parallel processing\n",
    "\n",
    "`interrogate()` can also parallel-process multiple corpora, speaker IDs, or queries.\n",
    "\n",
    "<a name=\"multiple-corpora\"></a>\n",
    "#### Multiple corpora\n",
    "\n",
    "To parallel-process multiple corpora, first, wrap them up as a `Corpora()` object:"
   ]
  },
  {
   "cell_type": "code",
   "execution_count": null,
   "metadata": {},
   "outputs": [],
   "source": [
    ">>> import os\n",
    ">>> from corpkit.corpus import Corpora\n",
    "\n",
    "# make a list of Corpus objects, then pass it to Corpora()\n",
    ">>> corpus_list = [Corpus(os.path.join(datadir, d)) for d in os.listdir(datadir)]\n",
    ">>> corpora = Corpora(corpus_list)\n",
    "\n",
    "# interrogate by parallel processing, 4 at a time\n",
    ">>> output = corpora.interrogate('t', r'/NN.?/ < /(?i)^h/', show = 'l', num_proc = 4)\n"
   ]
  },
  {
   "cell_type": "markdown",
   "metadata": {},
   "source": [
    "`num_proc` dictates the number of parallel processes to start. If omitted, you'll get as many processes as your machine has cores.\n",
    "\n",
    "The output of a multiprocessed interrogation will generally be a `dict` with  corpus/speaker/query names as keys. The only exception to this is if you use `show = 'count'`, which will concatenate results from each query into a single `Interrogation()` object, using corpus/speaker/query names as column names.\n",
    "\n",
    "<a name=\"multiple-speakers\"></a>\n",
    "#### Multiple speakers\n",
    "\n",
    "Passing in a list of speaker names will also trigger multiprocessing:"
   ]
  },
  {
   "cell_type": "code",
   "execution_count": null,
   "metadata": {},
   "outputs": [],
   "source": [
    ">>> from dictionary.wordlists import wordlists\n",
    ">>> spkrs = ['MEYER', 'JAY']\n",
    ">>> each_speaker = corpus.interrogate('w', wordlists.closedclass, just_speakers = spkrs)"
   ]
  },
  {
   "cell_type": "markdown",
   "metadata": {},
   "source": [
    "There is also `just_speakers = 'each'`, which will be automatically expanded to include every speaker name found in the corpus.\n",
    "\n",
    "<a name=\"multiple-queries\"></a>\n",
    "#### Multiple queries\n",
    "\n",
    "You can also run a number of queries over the same corpus in parallel. There are two ways to do this."
   ]
  },
  {
   "cell_type": "code",
   "execution_count": null,
   "metadata": {},
   "outputs": [],
   "source": [
    "# method one\n",
    "query = {'Noun phrases': r'NP', 'Verb phrases': r'VP'}`}\n",
    "phrases = corpus.interrogate('trees', query, show = 'c')\n",
    "\n",
    "# method two\n",
    "query = {'-ing words': {'w': r'ing$'}, '-ed verbs': {'p': r'^V', 'w': r'ed$'}}\n",
    "patterns = corpus.interrogate(query, show = 'l')"
   ]
  },
  {
   "cell_type": "markdown",
   "metadata": {},
   "source": [
    "Let's try multiprocessing with multiple queries, showing count (i.e. returning a single results DataFrame). We can look at different risk processes (e.g. *risk*, *take risk*, *run risk*, *pose risk*, *put at risk*) using constituency parses:"
   ]
  },
  {
   "cell_type": "code",
   "execution_count": null,
   "metadata": {},
   "outputs": [],
   "source": [
    ">>> q = {'risk':        r'VP <<# (/VB.?/ < /(?i).?\\brisk.?\\b/)', \n",
    "...      'take risk':   r'VP <<# (/VB.?/ < /(?i)\\b(take|takes|taking|took|taken)+\\b/) < (NP <<# /(?i).?\\brisk.?\\b/)', \n",
    "...      'run risk':    r'VP <<# (/VB.?/ < /(?i)\\b(run|runs|running|ran)+\\b/) < (NP <<# /(?i).?\\brisk.?\\b/)', \n",
    "...      'put at risk': r'VP <<# /(?i)(put|puts|putting)\\b/ << (PP <<# /(?i)at/ < (NP <<# /(?i).?\\brisk.?/))', \n",
    "...      'pose risk':   r'VP <<# (/VB.?/ < /(?i)\\b(pose|poses|posed|posing)+\\b/) < (NP <<# /(?i).?\\brisk.?\\b/)'}\n",
    "\n",
    "# show = 'count' will collapse results from each search into single dataframe\n",
    ">>> processes = corpus.interrogate('trees', q, show = 'count')\n",
    ">>> proc_rel = processes.edit('%', processes.totals)\n",
    ">>> proc_rel.plot('Risk processes')"
   ]
  },
  {
   "cell_type": "markdown",
   "metadata": {},
   "source": [
    "Output:\n",
    "\n",
    "<img style=\"float:left\" src=\"https://raw.githubusercontent.com/interrogator/risk/master/images/risk_processes-2.png\" />\n",
    "<br><br>\n",
    "\n",
    "<a name=\"more-complex-queries-and-plots\"></a>\n",
    "## More complex queries and plots\n",
    "\n",
    "Next, let's find out what kinds of noun lemmas are subjects of any of these risk processes:"
   ]
  },
  {
   "cell_type": "code",
   "execution_count": null,
   "metadata": {},
   "outputs": [],
   "source": [
    "# a query to find heads of nps that are subjects of risk processes\n",
    ">>> query = r'/^NN(S|)$/ !< /(?i).?\\brisk.?/ >># (@NP $ (VP <+(VP) (VP ( <<# (/VB.?/ < /(?i).?\\brisk.?/) ' \\\n",
    "...    r'| <<# (/VB.?/ < /(?i)\\b(take|taking|takes|taken|took|run|running|runs|ran|put|putting|puts)/) < ' \\\n",
    "...    r'(NP <<# (/NN.?/ < /(?i).?\\brisk.?/))))))'\n",
    ">>> noun_riskers = c.interrogate('trees', query, show = 'l')\n",
    " \n",
    ">>> noun_riskers.quickview(10)"
   ]
  },
  {
   "cell_type": "markdown",
   "metadata": {},
   "source": [
    "Output:"
   ]
  },
  {
   "cell_type": "code",
   "execution_count": null,
   "metadata": {},
   "outputs": [],
   "source": [
    "  0: person (n=195)\n",
    "  1: company (n=139)\n",
    "  2: bank (n=80)\n",
    "  3: investor (n=66)\n",
    "  4: government (n=63)\n",
    "  5: man (n=51)\n",
    "  6: leader (n=48)\n",
    "  7: woman (n=43)\n",
    "  8: official (n=40)\n",
    "  9: player (n=39)"
   ]
  },
  {
   "cell_type": "markdown",
   "metadata": {},
   "source": [
    "We can use `edit()` to make some thematic categories:"
   ]
  },
  {
   "cell_type": "code",
   "execution_count": null,
   "metadata": {},
   "outputs": [],
   "source": [
    "# get everyday people\n",
    ">>> p = ['person', 'man', 'woman', 'child', 'consumer', 'baby', 'student', 'patient']\n",
    "\n",
    ">>> them_cat = noun_riskers.edit(merge_entries = p, newname = 'Everyday people')\n",
    "\n",
    "# get business, gov, institutions\n",
    ">>> i = ['company', 'bank', 'investor', 'government', 'leader', 'president', 'officer', \n",
    "...      'politician', 'institution', 'agency', 'candidate', 'firm']\n",
    "\n",
    ">>> them_cat = them_cat.edit('%', noun_riskers.totals, merge_entries = i, \n",
    "...    newname = 'Institutions', sort_by = 'total', skip_subcorpora = 1963,\n",
    "...    just_entries = ['Everyday people', 'Institutions'])\n",
    "\n",
    "# plot result\n",
    ">>> them_cat.plot('Types of riskers', y_label = 'Percentage of all riskers')"
   ]
  },
  {
   "cell_type": "markdown",
   "metadata": {},
   "source": [
    "Output:\n",
    "\n",
    "<img style=\"float:left\" src=\"https://raw.githubusercontent.com/interrogator/risk/master/images/types-of-riskers.png\" />\n",
    "<br><br>\n",
    "\n",
    "Let's also find out what percentage of the time some nouns appear as riskers:"
   ]
  },
  {
   "cell_type": "code",
   "execution_count": null,
   "metadata": {},
   "outputs": [],
   "source": [
    "# find any head of an np not containing risk\n",
    ">>> query = r'/NN.?/ >># NP !< /(?i).?\\brisk.?/'\n",
    ">>> noun_lemmata = corpus.interrogate('trees', query, show = 'l')\n",
    "\n",
    "# get some key terms\n",
    ">>> people = ['man', 'woman', 'child', 'baby', 'politician', \n",
    "...           'senator', 'obama', 'clinton', 'bush']\n",
    ">>> selected = noun_riskers.edit('%', noun_lemmata.results, \n",
    "...    just_entries = people, just_totals = True, threshold = 0, sort_by = 'total')\n",
    "\n",
    "# make a bar chart:\n",
    ">>> selected.plot('Risk and power', num_to_plot = 'all', kind = 'bar', \n",
    "...    x_label = 'Word', y_label = 'Risker percentage', fontsize = 15)"
   ]
  },
  {
   "cell_type": "markdown",
   "metadata": {},
   "source": [
    "Output:\n",
    "\n",
    "<img style=\"float:left\" src=\"https://raw.githubusercontent.com/interrogator/risk/master/images/risk-and-power-2.png\" />\n",
    "<br><br>\n",
    "\n",
    "<a name=\"visualisation-options\"></a>\n",
    "### Visualisation options\n",
    "\n",
    "With a bit of creativity, you can do some pretty awesome data-viz, thanks to *Pandas* and *Matplotlib*. The following plots require only one interrogation:"
   ]
  },
  {
   "cell_type": "code",
   "execution_count": null,
   "metadata": {},
   "outputs": [],
   "source": [
    ">>> modals = corpus.interrogate('trees', 'MD < __', show = 'l')\n",
    "# simple stuff: make relative frequencies for individual or total results\n",
    ">>> rel_modals = modals.edit('%', modals.totals)\n",
    "\n",
    "# trickier: make an 'others' result from low-total entries\n",
    ">>> low_indices = range(7, modals.results.shape[1])\n",
    ">>> each_md = modals.edit('%', modals.totals, merge_entries = low_indices, \n",
    "...    newname = 'other', sort_by = 'total', just_totals = True, keep_top = 7)\n",
    "\n",
    "# complex stuff: merge results\n",
    ">>> entries_to_merge = [r'(^w|\\'ll|\\'d)', r'^c', r'^m', r'^sh']\n",
    ">>> modals = modals.edit(merge_entries = entries_to_merge)\n",
    "    \n",
    "# complex stuff: merge subcorpora\n",
    ">>> merges = {'1960s': r'^196', \n",
    "...           '1980s': r'^198', \n",
    "...           '1990s': r'^199', \n",
    "...           '2000s': r'^200',\n",
    "...           '2010s': r'^201'}\n",
    "\n",
    ">>> modals = sayers.edit(merge_subcorpora = merges)\n",
    "    \n",
    "# make relative, sort, remove what we don't want\n",
    ">>> modals = modals.edit('%', modals.totals, keep_stats = False,\n",
    "...    just_subcorpora = merges.keys(), sort_by = 'total', keep_top = 4)\n",
    "\n",
    "# show results\n",
    ">>> print rel_modals.results, each_md.results, modals.results"
   ]
  },
  {
   "cell_type": "markdown",
   "metadata": {},
   "source": [
    "Output:"
   ]
  },
  {
   "cell_type": "code",
   "execution_count": null,
   "metadata": {},
   "outputs": [],
   "source": [
    "          would       will        can      could  ...        need     shall      dare  shalt\n",
    "1963  22.326833  23.537323  17.955615   6.590451  ...    0.000000  0.537996  0.000000      0\n",
    "1987  24.750614  18.505132  15.512505  11.117537  ...    0.072286  0.260228  0.014457      0\n",
    "1988  23.138986  19.257117  16.182067  11.219364  ...    0.091338  0.060892  0.000000      0\n",
    "...         ...        ...        ...        ...  ...         ...       ...       ...    ...\n",
    "2012  23.097345  16.283186  15.132743  15.353982  ...    0.029499  0.029499  0.000000      0\n",
    "2013  22.136269  17.286522  16.349301  15.620351  ...    0.029753  0.029753  0.000000      0\n",
    "2014  21.618357  17.101449  16.908213  14.347826  ...    0.024155  0.000000  0.000000      0\n",
    "[29 rows x 17 columns] \n",
    "\n",
    "would     23.235853\n",
    "will      17.484034\n",
    "can       15.844070\n",
    "could     13.243449\n",
    "may        9.581255\n",
    "should     7.292294\n",
    "other      7.290155\n",
    "Name: Combined total, dtype: float64 \n",
    "\n",
    "       would/will/'ll...  can/could/ca  may/might/must  should/shall/shalt\n",
    "1960s          47.276395     25.016812       19.569603            7.800941\n",
    "1980s          44.756285     28.050776       19.224476            7.566817\n",
    "1990s          44.481957     29.142571       19.140310            6.892708\n",
    "2000s          42.386571     30.710739       19.182867            7.485681\n",
    "2010s          42.581666     32.045745       17.777845            7.397044\n"
   ]
  },
  {
   "cell_type": "markdown",
   "metadata": {},
   "source": [
    "Now, some intense plotting:"
   ]
  },
  {
   "cell_type": "code",
   "execution_count": null,
   "metadata": {},
   "outputs": [],
   "source": [
    "# exploded pie chart\n",
    ">>> each_md.plot('Pie chart of common modals in the NYT', explode = ['other'],\n",
    "...    num_to_plot = 'all', kind = 'pie', colours = 'Accent', figsize = (11, 11))\n",
    "\n",
    "# bar chart, transposing and reversing the data\n",
    ">>> modals.results.iloc[::-1].T.iloc[::-1].plot('Modals use by decade', kind = 'barh',\n",
    "...    x_label = 'Percentage of all modals', y_label = 'Modal group')\n",
    "\n",
    "# stacked area chart\n",
    ">>> rel_modals.results.drop('1963').plot('An ocean of modals', kind = 'area', \n",
    "...    stacked = True, colours = 'summer', figsize = (8, 10), num_to_plot = 'all', \n",
    "...    legend_pos = 'lower right', y_label = 'Percentage of all modals')"
   ]
  },
  {
   "cell_type": "markdown",
   "metadata": {},
   "source": [
    "Output:\n",
    "<p align=\"center\">\n",
    "<img src=\"https://raw.githubusercontent.com/interrogator/risk/master/images/pie-chart-of-common-modals-in-the-nyt2.png\"  height=\"400\" width=\"400\"/>\n",
    "<img src=\"https://raw.githubusercontent.com/interrogator/risk/master/images/modals-use-by-decade.png\"  height=\"230\" width=\"500\"/>\n",
    "<img src=\"https://raw.githubusercontent.com/interrogator/risk/master/images/an-ocean-of-modals2.png\"  height=\"600\" width=\"500\"/>\n",
    "</p>\n",
    "\n",
    "<a name=\"more-information\"></a>\n",
    "## More information\n",
    "\n",
    "Some things are likely lacking documentation right now. For now, the more complex functionality of the toolkit is presented best in some of the research projects I'm working on:\n",
    "\n",
    "1. [Longitudinal linguistic change in an online support group](https://github.com/interrogator/sfl_corpling) (thesis project)\n",
    "2. [Discourse-semantics of *risk* in the NYT, 1963&ndash;2014](https://github.com/interrogator/risk) (most *corpkit* use)\n",
    "3. [Learning Python, IPython and NLTK by investigating a corpus of Malcolm Fraser's speeches](https://github.com/resbaz/nltk)\n",
    "\n",
    "<a name=\"cite\"></a>\n",
    "## Cite\n",
    "\n",
    "If you want to cite *corpkit*, please use:\n",
    "\n",
    "> `McDonald, D. (2015). corpkit: a toolkit for corpus linguistics. Retrieved from https://www.github.com/interrogator/corpkit. DOI: http://doi.org/10.5281/zenodo.28361`"
   ]
  }
 ],
 "metadata": {},
 "nbformat": 4,
 "nbformat_minor": 0
}
